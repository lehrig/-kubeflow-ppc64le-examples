{
 "cells": [
  {
   "cell_type": "markdown",
   "metadata": {},
   "source": [
    "# Apple's Stock Price Prediction based on Weather Forecasts\n",
    "\n",
    "> Stock price prediction for Apple Inc. based on New York's current weather conditions. Inspired by https://www.relataly.com/stock-market-prediction-using-multivariate-time-series-in-python/1815/. Demonstrates the usage of Trino to interact with different databases.\n",
    "\n",
    "## Authors\n",
    "\n",
    "Natalie Jann [natalie.jann@ibm.com](mailto:natalie.jann@ibm.com)\n",
    "\n",
    "Sebastian Lehrig [sebastian.lehrig1@ibm.com](mailto:sebastian.lehrig1@ibm.com)\n",
    "\n",
    "Marvin Giessing [MARVING@de.ibm.com](mailto:MARVING@de.ibm.com)\n",
    "\n",
    "## License\n",
    "Apache-2.0 License\n",
    "\n",
    "## 0.) Imports and Constants"
   ]
  },
  {
   "cell_type": "code",
   "execution_count": 15,
   "metadata": {
    "tags": []
   },
   "outputs": [
    {
     "name": "stdout",
     "output_type": "stream",
     "text": [
      "The lab_black extension is already loaded. To reload it, use:\n",
      "  %reload_ext lab_black\n"
     ]
    }
   ],
   "source": [
    "import os\n",
    "\n",
    "import kfp\n",
    "from kfp.components import InputPath, OutputPath\n",
    "import kfp.dsl as dsl\n",
    "from kfp.dsl import PipelineConf, data_passing_methods\n",
    "from kubernetes.client.models import V1Volume, V1PersistentVolumeClaimVolumeSource\n",
    "from pydoc import importfile\n",
    "\n",
    "%load_ext lab_black"
   ]
  },
  {
   "cell_type": "code",
   "execution_count": 16,
   "metadata": {
    "tags": []
   },
   "outputs": [
    {
     "data": {
      "text/plain": [
       "{'blackboard': 'artefacts', 'model_name': 'stock-price-prediction'}"
      ]
     },
     "execution_count": 16,
     "metadata": {},
     "output_type": "execute_result"
    }
   ],
   "source": [
    "COMPONENT_CATALOG_FOLDER = f\"{os.getenv('HOME')}/components\"\n",
    "COMPONENT_CATALOG_GIT = \"https://github.com/lehrig/kubeflow-ppc64le-components.git\"\n",
    "COMPONENT_CATALOG_RELEASE = \"main\"\n",
    "\n",
    "CONVERT_MODEL_TO_ONNX_COMPONENT = (\n",
    "    f\"{COMPONENT_CATALOG_FOLDER}/model-building/convert-to-onnx/component.yaml\"\n",
    ")\n",
    "UPLOAD_MODEL_COMPONENT = (\n",
    "    f\"{COMPONENT_CATALOG_FOLDER}/model-building/upload-model/component.yaml\"\n",
    ")\n",
    "DEPLOY_MODEL_WITH_KSERVE_COMPONENT = f\"{COMPONENT_CATALOG_FOLDER}/model-deployment/deploy-model-with-kserve/component.yaml\"\n",
    "\n",
    "BASE_IMAGE = \"quay.io/ibm/kubeflow-notebook-image-ppc64le:latest\"\n",
    "\n",
    "ARGUMENTS = {\"blackboard\": \"artefacts\", \"model_name\": \"stock-price-prediction\"}\n",
    "MODEL_NAME = ARGUMENTS[\"model_name\"]\n",
    "\n",
    "with open(\"/var/run/secrets/kubernetes.io/serviceaccount/namespace\") as f:\n",
    "    NAMESPACE = f.read()\n",
    "\n",
    "ARGUMENTS"
   ]
  },
  {
   "cell_type": "code",
   "execution_count": 17,
   "metadata": {
    "tags": []
   },
   "outputs": [],
   "source": [
    "client = kfp.Client()"
   ]
  },
  {
   "cell_type": "code",
   "execution_count": 18,
   "metadata": {
    "tags": []
   },
   "outputs": [
    {
     "name": "stdout",
     "output_type": "stream",
     "text": [
      "fatal: destination path '/home/jovyan/components' already exists and is not an empty directory.\n"
     ]
    }
   ],
   "source": [
    "!git clone --branch $COMPONENT_CATALOG_RELEASE $COMPONENT_CATALOG_GIT $COMPONENT_CATALOG_FOLDER"
   ]
  },
  {
   "cell_type": "code",
   "execution_count": 19,
   "metadata": {
    "tags": []
   },
   "outputs": [],
   "source": [
    "CATALOG = importfile(f\"{COMPONENT_CATALOG_FOLDER}/catalog.py\")"
   ]
  },
  {
   "cell_type": "markdown",
   "metadata": {},
   "source": [
    "## 1.) Interaction with a Trino Server"
   ]
  },
  {
   "cell_type": "code",
   "execution_count": 20,
   "metadata": {
    "tags": []
   },
   "outputs": [
    {
     "data": {
      "text/plain": [
       "dict_keys(['Date', 'Close', 'Avg Wind Speed', 'Precipitation', 'Snow', 'Snow Depth', 'Temp AVG', 'Temp Max', 'Temp Min'])"
      ]
     },
     "execution_count": 20,
     "metadata": {},
     "output_type": "execute_result"
    }
   ],
   "source": [
    "gen_dtype = \"float32\"\n",
    "y = \"Close\"\n",
    "df_structure = {\n",
    "    \"Date\": \"timestamp[ns]\",\n",
    "    \"Close\": gen_dtype,\n",
    "    \"Avg Wind Speed\": gen_dtype,\n",
    "    \"Precipitation\": gen_dtype,\n",
    "    \"Snow\": gen_dtype,\n",
    "    \"Snow Depth\": gen_dtype,\n",
    "    \"Temp AVG\": gen_dtype,\n",
    "    \"Temp Max\": gen_dtype,\n",
    "    \"Temp Min\": gen_dtype,\n",
    "}\n",
    "df_structure.keys()"
   ]
  },
  {
   "cell_type": "markdown",
   "metadata": {},
   "source": [
    "## 2) Preprocess Training Data\n",
    "\n",
    "### 2.1.) Conversion from Pandas Dataframe to HuggingFace Dataset"
   ]
  },
  {
   "cell_type": "code",
   "execution_count": 21,
   "metadata": {
    "tags": []
   },
   "outputs": [],
   "source": [
    "def convert_to_HF_dataset(\n",
    "    dataset_dir: OutputPath(str),\n",
    "    features: dict,\n",
    "    columns: list,\n",
    "    raw_data_dir: InputPath(str),\n",
    "    split: float = 0.15,\n",
    "):\n",
    "    \"\"\"Create a HuggingFace Dataset with train/test-split based on the Dataframe in `dataset_dir`\"\"\"\n",
    "\n",
    "    import os\n",
    "    import pandas as pd\n",
    "    from datasets import Dataset, Features, Value\n",
    "\n",
    "    df = pd.read_feather(raw_data_dir)\n",
    "    df.columns = columns\n",
    "    df.replace(\"NaN\", 0, inplace=True)\n",
    "    df.fillna(0, inplace=True)\n",
    "    df.drop_duplicates(inplace=True)\n",
    "    features = {col: Value(dtype=features[col], id=None) for col in df.columns}\n",
    "    df.index = pd.to_datetime(df[\"Date\"], format=\"%Y-%m-%d\")\n",
    "    df.drop(\"Date\", inplace=True, axis=1)\n",
    "    for col in df.columns:\n",
    "        df[col] = df[col].astype(features[col])\n",
    "\n",
    "    dataset = Dataset.from_pandas(df, features=Features(features))\n",
    "    dataset = dataset.train_test_split(test_size=split, shuffle=False)\n",
    "\n",
    "    if not os.path.exists(dataset_dir):\n",
    "        os.makedirs(dataset_dir)\n",
    "    dataset.save_to_disk(dataset_dir)\n",
    "\n",
    "\n",
    "convert_dataset_to_HF_comp = kfp.components.create_component_from_func(\n",
    "    func=convert_to_HF_dataset, base_image=BASE_IMAGE\n",
    ")"
   ]
  },
  {
   "cell_type": "markdown",
   "metadata": {},
   "source": [
    "### 2.2.) Scaling Dataset Values"
   ]
  },
  {
   "cell_type": "code",
   "execution_count": 22,
   "metadata": {
    "tags": []
   },
   "outputs": [],
   "source": [
    "def initalize_scaling(\n",
    "    dataset_dir: InputPath(str),\n",
    "    features: dict,\n",
    "    prep_dataset_dir: OutputPath(str),\n",
    "    y_col: str,\n",
    "):\n",
    "    \"\"\"Scale the values of the HuggingFace Dataset in `dataset_dir`\"\"\"\n",
    "\n",
    "    import numpy as np\n",
    "    import pandas as pd\n",
    "    import joblib\n",
    "    import os\n",
    "\n",
    "    from sklearn.preprocessing import RobustScaler\n",
    "    from datasets import load_from_disk, Dataset, DatasetDict, Features, Value\n",
    "\n",
    "    dataset = load_from_disk(dataset_dir)\n",
    "    train = dataset[\"train\"].to_pandas()\n",
    "    features = {col: Value(dtype=features[col], id=None) for col in train.columns}\n",
    "    train.set_index(\"Date\", inplace=True)\n",
    "    y_train = np.array(train[y_col]).reshape(-1, 1)\n",
    "\n",
    "    scaler = RobustScaler().fit(train)\n",
    "    x_scaled = scaler.transform(train)\n",
    "\n",
    "    scaler_pred = RobustScaler().fit(y_train)\n",
    "    y_scaled = scaler_pred.transform(y_train)\n",
    "    print(\"Training data has been scaled\")\n",
    "\n",
    "    df = pd.DataFrame(x_scaled, columns=train.columns)\n",
    "    df.index = train.index\n",
    "    df[y_col] = [elem[0] for elem in y_scaled]\n",
    "\n",
    "    scaled_train_ds = Dataset.from_pandas(\n",
    "        df, features=Features(features), split=\"train\"\n",
    "    )\n",
    "    scaled_dataset = {\"train\": scaled_train_ds}\n",
    "\n",
    "    splits = list(dataset.keys())\n",
    "    splits.remove(\"train\")\n",
    "\n",
    "    for split in splits:\n",
    "        x = dataset[split].to_pandas()\n",
    "        x.set_index(\"Date\", inplace=True)\n",
    "        y = np.array(x[y_col]).reshape(-1, 1)\n",
    "\n",
    "        x_scaled = scaler.transform(x)\n",
    "        y_scaled = scaler_pred.transform(y)\n",
    "\n",
    "        df = pd.DataFrame(x_scaled, columns=x.columns)\n",
    "        df.index = x.index\n",
    "        df[y_col] = [elem[0] for elem in y_scaled]\n",
    "\n",
    "        scaled_ds_split = Dataset.from_pandas(\n",
    "            df, features=Features(features), split=split\n",
    "        )\n",
    "        scaled_dataset[split] = scaled_ds_split\n",
    "        print(f\"{split} dataset split scaled.\")\n",
    "\n",
    "    if not os.path.exists(prep_dataset_dir):\n",
    "        os.makedirs(prep_dataset_dir)\n",
    "\n",
    "    scaled_dataset = DatasetDict(scaled_dataset)\n",
    "    scaled_dataset.save_to_disk(prep_dataset_dir)\n",
    "\n",
    "    with open(f\"{prep_dataset_dir}/scaler.pickle\", \"wb\") as f:\n",
    "        joblib.dump(scaler, f)\n",
    "    with open(f\"{prep_dataset_dir}/scaler_pred.pickle\", \"wb\") as f:\n",
    "        joblib.dump(scaler_pred, f)\n",
    "\n",
    "    print(f\"Scaled dataset and scalers saved. Contents of '{prep_dataset_dir}':\")\n",
    "    print(os.listdir(prep_dataset_dir))\n",
    "\n",
    "\n",
    "scale_dataset_comp = kfp.components.create_component_from_func(\n",
    "    func=initalize_scaling, base_image=BASE_IMAGE\n",
    ")"
   ]
  },
  {
   "cell_type": "markdown",
   "metadata": {},
   "source": [
    "### 2.3.) Cutting the Dataset into Sequences of *X* Days"
   ]
  },
  {
   "cell_type": "code",
   "execution_count": 23,
   "metadata": {
    "tags": []
   },
   "outputs": [],
   "source": [
    "def partition_dataset(\n",
    "    gen_dtype: str,\n",
    "    part_dataset_dir: OutputPath(str),\n",
    "    prep_dataset_dir: InputPath(str),\n",
    "    y_col: str,\n",
    "    sequence_length: int = 10,\n",
    "):\n",
    "    \"\"\"Create series of length `sequence_length` from the HugginFace Dataset in `dataset_dir`\"\"\"\n",
    "\n",
    "    import numpy as np\n",
    "    import os\n",
    "    from datasets import load_from_disk\n",
    "\n",
    "    dataset = load_from_disk(prep_dataset_dir)\n",
    "\n",
    "    if not os.path.exists(part_dataset_dir):\n",
    "        os.makedirs(part_dataset_dir)\n",
    "\n",
    "    for split in dataset.keys():\n",
    "        data = dataset[split]\n",
    "        x, y = [], []\n",
    "        data_len = data.shape[0]\n",
    "        for i in range(sequence_length, data_len):\n",
    "            period = range(i - sequence_length, i)\n",
    "            x_values = list(data.__getitem__(period).values())[1:]\n",
    "            x_values = np.reshape(\n",
    "                np.array(x_values).flatten(), (len(x_values), len(period))\n",
    "            ).T\n",
    "            x.append(x_values)\n",
    "            y.append(data.__getitem__(i)[y_col])\n",
    "\n",
    "        x = np.array(x).astype(gen_dtype)\n",
    "        y = np.array(y).astype(gen_dtype)\n",
    "\n",
    "        np.save(f\"{part_dataset_dir}/x-{split}-partition.npy\", x)\n",
    "        np.save(f\"{part_dataset_dir}/y-{split}-partition.npy\", y)\n",
    "        print(f\"{split} sequences created\")\n",
    "\n",
    "    print(\n",
    "        f\"Pre-processed Dataset saved. Contents of '{part_dataset_dir}':\\n\",\n",
    "        os.listdir(part_dataset_dir),\n",
    "    )\n",
    "\n",
    "\n",
    "partition_ds_comp = kfp.components.create_component_from_func(\n",
    "    func=partition_dataset, base_image=BASE_IMAGE\n",
    ")"
   ]
  },
  {
   "cell_type": "markdown",
   "metadata": {},
   "source": [
    "## 3.) Model Definition\n",
    "\n",
    "### 3.1.) Training"
   ]
  },
  {
   "cell_type": "code",
   "execution_count": 24,
   "metadata": {
    "tags": []
   },
   "outputs": [],
   "source": [
    "def train_model(\n",
    "    model_dir: OutputPath(str),\n",
    "    part_dataset_dir: InputPath(str),\n",
    "    batch_size: int = 16,\n",
    "    epochs: int = 50,\n",
    "    model_name: str = \"model.h5\",\n",
    "):\n",
    "    \"\"\"Trains LSTM model. Once trained, the model is persisted to `model_dir`.\"\"\"\n",
    "\n",
    "    import time\n",
    "    import os\n",
    "    from numpy import load\n",
    "    from tensorflow.keras.layers import LSTM, Dense\n",
    "    from tensorflow.keras.models import Sequential\n",
    "    from tensorflow.keras.metrics import (\n",
    "        MeanAbsoluteError,\n",
    "        MeanAbsolutePercentageError,\n",
    "        MeanSquaredError,\n",
    "        RootMeanSquaredError,\n",
    "    )\n",
    "\n",
    "    x_train = load(f\"{part_dataset_dir}/x-train-partition.npy\", allow_pickle=False)\n",
    "    y_train = load(f\"{part_dataset_dir}/y-train-partition.npy\", allow_pickle=False)\n",
    "\n",
    "    x_test = load(f\"{part_dataset_dir}/x-test-partition.npy\", allow_pickle=False)\n",
    "    y_test = load(f\"{part_dataset_dir}/y-test-partition.npy\", allow_pickle=False)\n",
    "    print(\n",
    "        f\"Data shapes: Train - {x_train.shape}/{y_train.shape}, Test - {x_test.shape}/{y_test.shape}\"\n",
    "    )\n",
    "\n",
    "    model = Sequential()\n",
    "\n",
    "    # Model with n_neurons made up of x_train.shape[1] Timestamps, each with x_train.shape[2] variables\n",
    "    n_neurons = x_train.shape[1] * x_train.shape[2]\n",
    "\n",
    "    model.add(\n",
    "        LSTM(\n",
    "            n_neurons,\n",
    "            return_sequences=True,\n",
    "            input_shape=(x_train.shape[1], x_train.shape[2]),\n",
    "        )\n",
    "    )\n",
    "    model.add(LSTM(n_neurons, return_sequences=False))\n",
    "    model.add(Dense(6))\n",
    "    model.add(Dense(1))\n",
    "\n",
    "    model.compile(\n",
    "        optimizer=\"adam\",\n",
    "        loss=\"mse\",\n",
    "        metrics=[\n",
    "            MeanAbsoluteError(),\n",
    "            MeanAbsolutePercentageError(),\n",
    "            MeanSquaredError(),\n",
    "            RootMeanSquaredError(),\n",
    "        ],\n",
    "    )\n",
    "    print(model.summary())\n",
    "\n",
    "    start = time.time()\n",
    "    history = model.fit(\n",
    "        x_train,\n",
    "        y_train,\n",
    "        batch_size=batch_size,\n",
    "        epochs=epochs,\n",
    "        validation_data=(x_test, y_test),\n",
    "    )\n",
    "    print(f\"\\nTraining took {time.time()-start} seconds.\\nModel train history:\")\n",
    "    print(history.history)\n",
    "\n",
    "    if not os.path.exists(model_dir):\n",
    "        os.makedirs(model_dir)\n",
    "    model.save(model_dir)\n",
    "    print(f\"Model saved. Contents of '{model_dir}':\\n\", os.listdir(model_dir))\n",
    "\n",
    "\n",
    "train_model_comp = kfp.components.create_component_from_func(\n",
    "    func=train_model, base_image=BASE_IMAGE\n",
    ")"
   ]
  },
  {
   "cell_type": "markdown",
   "metadata": {},
   "source": [
    "## 4.) Inference\n",
    "\n",
    "### 4.1.) Preparation of a Sequence for the first Prediction + Forecast"
   ]
  },
  {
   "cell_type": "code",
   "execution_count": 25,
   "metadata": {
    "tags": []
   },
   "outputs": [],
   "source": [
    "def merge_data(\n",
    "    columns: list,\n",
    "    dataset_dir_1: InputPath(str),\n",
    "    dataset_dir_2: InputPath(str),\n",
    "    features: dict,\n",
    "    gen_dtype: str,\n",
    "    headers: list,\n",
    "    order_by: str,\n",
    "    prep_dataset_dir: OutputPath(str),\n",
    "    scaler_p: InputPath(str),\n",
    "    today: str,\n",
    "    sequence_length: int = 10,\n",
    "):\n",
    "    \"\"\"Merges the results of two Trino queries in `dataset_dir_1` and `dataset_dir_2` to get a dataset for inference\"\"\"\n",
    "\n",
    "    import pandas as pd\n",
    "    import numpy as np\n",
    "    import joblib\n",
    "    from datasets import Dataset, Features, Value\n",
    "\n",
    "    def set_index_columns(df, cols, dedup=False):\n",
    "        df.replace(\"NaN\", 0, inplace=True)\n",
    "        df.fillna(0, inplace=True)\n",
    "        df.columns = cols\n",
    "        df.drop_duplicates(inplace=True)\n",
    "        df.sort_values(by=order_by, inplace=True)\n",
    "        df.drop_duplicates(subset=[\"Date\"], keep=\"last\", inplace=True)\n",
    "        df.drop(order_by, inplace=True, axis=1)\n",
    "\n",
    "        df.sort_values(by=\"Date\", inplace=True)\n",
    "        df.index = pd.to_datetime(df[\"Date\"], format=\"%Y-%m-%d\")\n",
    "        df.drop(columns=\"Date\", inplace=True, axis=1)\n",
    "        for col in df.columns:\n",
    "            df[col] = df[col].astype(gen_dtype)\n",
    "        return df\n",
    "\n",
    "    with open(f\"{scaler_p}/scaler.pickle\", \"rb\") as f:\n",
    "        scaler = joblib.load(f)\n",
    "\n",
    "    df1 = pd.read_feather(dataset_dir_1)\n",
    "    df2 = pd.read_feather(dataset_dir_2)\n",
    "\n",
    "    df1 = set_index_columns(df1, [\"timestamp\"] + columns, dedup=True)\n",
    "    df2 = set_index_columns(df2, [\"timestamp\"] + headers)\n",
    "\n",
    "    features = {f: Value(dtype=features[f], id=None) for f in features.keys()}\n",
    "\n",
    "    df1 = df1[-sequence_length:]\n",
    "    df2.insert(0, \"Close\", df1.iloc[-1, 0])\n",
    "\n",
    "    df2predict = pd.concat([df1, df2])\n",
    "\n",
    "    df2predict_unscaled = np.array(df2predict)\n",
    "\n",
    "    df2predict_scaled = scaler.transform(df2predict_unscaled)\n",
    "    df2predict_scaled = pd.DataFrame(df2predict_scaled, columns=df2.columns)\n",
    "    df2predict_scaled.insert(0, \"Date\", df2predict.index)\n",
    "\n",
    "    future_dataset = Dataset.from_pandas(df2predict_scaled, features=Features(features))\n",
    "    future_dataset.save_to_disk(prep_dataset_dir)\n",
    "    print(f\"Inference dataset scaled and saved to '{prep_dataset_dir}'\")\n",
    "\n",
    "\n",
    "merge_data_comp = kfp.components.create_component_from_func(\n",
    "    func=merge_data, base_image=BASE_IMAGE\n",
    ")"
   ]
  },
  {
   "cell_type": "markdown",
   "metadata": {},
   "source": [
    "### 4.2.) 14 Days Forecast"
   ]
  },
  {
   "cell_type": "code",
   "execution_count": 26,
   "metadata": {
    "tags": []
   },
   "outputs": [],
   "source": [
    "def run_inference(\n",
    "    prep_dataset_dir: InputPath(str),\n",
    "    features: dict,\n",
    "    gen_dtype: str,\n",
    "    model_name: str,\n",
    "    namespace: str,\n",
    "    scaler_p: InputPath(str),\n",
    "    y: str,\n",
    "    sequence_length: int = 10,\n",
    "):\n",
    "\n",
    "    import requests\n",
    "    import joblib\n",
    "    from datasets import load_from_disk\n",
    "    import numpy as np\n",
    "    import json\n",
    "\n",
    "    # function to update future dataset with newest prediction value\n",
    "    def update_y(row, cond, target, y, new):\n",
    "        if row[cond] == target:\n",
    "            row[y] = new.astype(gen_dtype)[0]\n",
    "        return row\n",
    "\n",
    "    future_dataset = load_from_disk(prep_dataset_dir)\n",
    "    predictions = []\n",
    "\n",
    "    with open(f\"{scaler_p}/scaler_pred.pickle\", \"rb\") as f:\n",
    "        scaler_pred = joblib.load(f)\n",
    "\n",
    "    HEADERS = {\"Host\": model_name + \"-predictor-default.\" + namespace}\n",
    "    PREDICT_ENDPOINT = (\n",
    "        \"http://\" + model_name + \"-predictor-default/v2/models/model/infer\"\n",
    "    )\n",
    "    print(f\"Running inference against {PREDICT_ENDPOINT} on {HEADERS}\")\n",
    "\n",
    "    for i in range(sequence_length, future_dataset.num_rows):\n",
    "        # get last 10 scaled values from dataset\n",
    "        period = range(i - sequence_length, i)\n",
    "        x_values = list(future_dataset.__getitem__(period).values())\n",
    "        del x_values[2]  # date\n",
    "        x_values = np.reshape(\n",
    "            np.array(x_values).flatten(), (len(x_values), len(period))\n",
    "        ).T\n",
    "        x_values[:, [1, 0]] = x_values[:, [0, 1]]\n",
    "        # do inference\n",
    "        payload = {\n",
    "            \"inputs\": [\n",
    "                {\n",
    "                    \"name\": \"lstm_input\",\n",
    "                    \"shape\": [1, 10, 8],\n",
    "                    \"datatype\": \"FP32\",\n",
    "                    \"data\": x_values.astype(gen_dtype).tolist(),\n",
    "                }\n",
    "            ]\n",
    "        }\n",
    "\n",
    "        res = requests.post(PREDICT_ENDPOINT, headers=HEADERS, data=json.dumps(payload))\n",
    "        response = json.loads(res.text)\n",
    "        y_pred_scaled = response[\"outputs\"][0][\"data\"]\n",
    "\n",
    "        # Unscale the predicted values\n",
    "        y_pred = scaler_pred.inverse_transform(\n",
    "            np.array([y_pred_scaled]).reshape(-1, 1)\n",
    "        )[0]\n",
    "        predictions.append(y_pred[0])\n",
    "\n",
    "        # update dataframe Y column with predicted values so that it's available for next inference iteration\n",
    "        target = future_dataset.__getitem__(i)[\"Date\"]\n",
    "        future_dataset = future_dataset.map(\n",
    "            lambda x: update_y(x, \"Date\", target, y, np.array(y_pred_scaled)),\n",
    "            keep_in_memory=True,\n",
    "        )\n",
    "\n",
    "    # convert dataset to df and modify it to include unscaled price predictions\n",
    "    predictions_df = future_dataset.to_pandas()\n",
    "    predictions_df.set_index(\"Date\", inplace=True)\n",
    "    predictions_df.iloc[\n",
    "        :10, predictions_df.columns.get_loc(y)\n",
    "    ] = scaler_pred.inverse_transform(\n",
    "        np.array(list(future_dataset.__getitem__(y))[:10]).reshape(1, -1)\n",
    "    )\n",
    "    predictions_df.iloc[10:, predictions_df.columns.get_loc(y)] = predictions[:]\n",
    "    predictions_df = predictions_df[[\"Close\"]]\n",
    "    print(\"Predictions:\", predictions_df)\n",
    "\n",
    "\n",
    "run_inference_comp = kfp.components.create_component_from_func(\n",
    "    func=run_inference, base_image=BASE_IMAGE\n",
    ")"
   ]
  },
  {
   "cell_type": "markdown",
   "metadata": {},
   "source": [
    "## 5.) Run Everthing within a Kubeflow Pipeline\n",
    "\n",
    "### 5.1.) Definition"
   ]
  },
  {
   "cell_type": "code",
   "execution_count": 27,
   "metadata": {
    "tags": []
   },
   "outputs": [],
   "source": [
    "from datetime import datetime\n",
    "\n",
    "headers = list(df_structure.keys())\n",
    "headers.remove(y)\n",
    "today = datetime.now().strftime(\"%Y-%m-%d\")\n",
    "seq_len = 10\n",
    "\n",
    "\n",
    "@dsl.pipeline(\n",
    "    name=\"Apple Stock Price Prediction\",\n",
    "    description=\"An example pipeline that predicts Apple's stock (close) price based on weather forecasts\",\n",
    ")\n",
    "def stock_price_prediction_pipeline(blackboard: str, model_name: str):\n",
    "\n",
    "    create_blackboard = dsl.VolumeOp(\n",
    "        name=\"Create Artefacts Blackboard\",\n",
    "        resource_name=blackboard,\n",
    "        modes=dsl.VOLUME_MODE_RWO,\n",
    "        size=\"4Gi\",\n",
    "        set_owner_reference=True,\n",
    "    )\n",
    "\n",
    "    load_dataframe_via_trino_task = CATALOG.load_dataframe_via_trino_comp(\n",
    "        query=\"SELECT a.Date, a.Close, w.AWND, w.PRCP, w.SNOW, w.SNWD, w.TAVG, w.TMAX, w.TMIN \\\n",
    "            FROM mongodb.weather.weatherny w JOIN postgresql.public.applehistory a \\\n",
    "            ON w._id = a.Date WHERE a.Date < date '2022-08-05' ORDER BY date ASC\",\n",
    "        columns=[\n",
    "            \"Date\",\n",
    "            \"Close\",\n",
    "            \"AWND\",\n",
    "            \"PRCP\",\n",
    "            \"SNOW\",\n",
    "            \"SNWD\",\n",
    "            \"TAVG\",\n",
    "            \"TMAX\",\n",
    "            \"TMIN\",\n",
    "        ],\n",
    "    )  # weather\n",
    "    load_dataframe_via_trino_task.after(create_blackboard)\n",
    "\n",
    "    conversion_task = convert_dataset_to_HF_comp(\n",
    "        raw_data_dir=load_dataframe_via_trino_task.outputs[\"dataframe\"],\n",
    "        split=0.15,\n",
    "        features=df_structure,\n",
    "        columns=list(df_structure.keys()),\n",
    "    )\n",
    "\n",
    "    scaling_task = scale_dataset_comp(\n",
    "        dataset_dir=conversion_task.outputs[\"dataset_dir\"],\n",
    "        features=df_structure,\n",
    "        y_col=y,\n",
    "    )\n",
    "\n",
    "    partition_task = partition_ds_comp(\n",
    "        gen_dtype=gen_dtype,\n",
    "        prep_dataset_dir=scaling_task.outputs[\"prep_dataset_dir\"],\n",
    "        y_col=\"Close\",\n",
    "        sequence_length=seq_len,\n",
    "    )\n",
    "\n",
    "    train_model_task = train_model_comp(\n",
    "        part_dataset_dir=partition_task.outputs[\"part_dataset_dir\"],\n",
    "        model_name=model_name,\n",
    "        epochs=5,\n",
    "    )\n",
    "\n",
    "    convert_model_to_onnx_task = CATALOG.convert_model_to_onnx_comp(\n",
    "        train_model_task.outputs[\"model_dir\"]\n",
    "    )\n",
    "    upload_model_task = CATALOG.upload_model_comp(\n",
    "        convert_model_to_onnx_task.outputs[\"onnx_model_dir\"], project_name=model_name\n",
    "    )\n",
    "\n",
    "    deploy_model_with_kserve_task = CATALOG.deploy_model_with_kserve_comp(\n",
    "        project_name=model_name,\n",
    "        model_version=upload_model_task.outputs[\"model_version\"],\n",
    "    )\n",
    "\n",
    "    deploy_model_with_kserve_task.after(upload_model_task)\n",
    "\n",
    "    ### inference\n",
    "    query_presence_task = CATALOG.load_dataframe_via_trino_comp(\n",
    "        query=f\"SELECT DISTINCT w._timestamp, a.date, a.apple_price, w.AWND, w.PRCP, \\\n",
    "            w.SNOW, w.SNWD, w.TAVG, w.TMAX, w.TMIN FROM trinoweather w LEFT OUTER JOIN trinostock a \\\n",
    "            ON w.DATE = a.date WHERE a.date > date '2022-08-04' AND w.date < date '{today}' ORDER BY date ASC\",\n",
    "        columns=[\n",
    "            \"_timestamp\",\n",
    "            \"date\",\n",
    "            \"apple_price\",\n",
    "            \"AWND\",\n",
    "            \"PRCP\",\n",
    "            \"SNOW\",\n",
    "            \"SNWD\",\n",
    "            \"TAVG\",\n",
    "            \"TMAX\",\n",
    "            \"TMIN\",\n",
    "        ],\n",
    "        catalog=\"kafka\",\n",
    "        schema=\"default\",\n",
    "    )\n",
    "\n",
    "    query_presence_task.after(create_blackboard)\n",
    "\n",
    "    query_future_task = CATALOG.load_dataframe_via_trino_comp(\n",
    "        query=f\"SELECT DISTINCT _timestamp, date, AWND, PRCP, SNOW, SNWD, TAVG, TMAX, TMIN FROM trinoweather \\\n",
    "            WHERE date > date '{today}' ORDER BY date ASC\",\n",
    "        columns=[\n",
    "            \"_timestamp\",\n",
    "            \"date\",\n",
    "            \"AWND\",\n",
    "            \"PRCP\",\n",
    "            \"SNOW\",\n",
    "            \"SNWD\",\n",
    "            \"TAVG\",\n",
    "            \"TMAX\",\n",
    "            \"TMIN\",\n",
    "        ],\n",
    "        catalog=\"kafka\",\n",
    "        schema=\"default\",\n",
    "    )\n",
    "\n",
    "    query_future_task.after(create_blackboard)\n",
    "\n",
    "    merge_data_task = merge_data_comp(\n",
    "        columns=list(df_structure.keys()),\n",
    "        dataset_dir_1=query_presence_task.outputs[\"dataframe\"],\n",
    "        dataset_dir_2=query_future_task.outputs[\"dataframe\"],\n",
    "        today=today,\n",
    "        features=df_structure,\n",
    "        headers=headers,\n",
    "        order_by=\"timestamp\",\n",
    "        scaler_p=scaling_task.outputs[\"prep_dataset_dir\"],\n",
    "        sequence_length=seq_len,\n",
    "        gen_dtype=gen_dtype,\n",
    "    )\n",
    "\n",
    "    inference_task = run_inference_comp(\n",
    "        prep_dataset_dir=merge_data_task.outputs[\"prep_dataset_dir\"],\n",
    "        scaler_p=scaling_task.outputs[\"prep_dataset_dir\"],\n",
    "        sequence_length=seq_len,\n",
    "        model_name=model_name,\n",
    "        namespace=NAMESPACE,\n",
    "        gen_dtype=gen_dtype,\n",
    "        features=df_structure,\n",
    "        y=y,\n",
    "    )\n",
    "    inference_task.after(deploy_model_with_kserve_task)"
   ]
  },
  {
   "cell_type": "markdown",
   "metadata": {},
   "source": [
    "### 5.2.) Configuration & Execution"
   ]
  },
  {
   "cell_type": "code",
   "execution_count": 28,
   "metadata": {
    "tags": []
   },
   "outputs": [
    {
     "data": {
      "text/html": [
       "<a href=\"/pipeline/#/experiments/details/5a8f5bcf-1dd6-4627-8126-37cc2350da48\" target=\"_blank\" >Experiment details</a>."
      ],
      "text/plain": [
       "<IPython.core.display.HTML object>"
      ]
     },
     "metadata": {},
     "output_type": "display_data"
    },
    {
     "data": {
      "text/html": [
       "<a href=\"/pipeline/#/runs/details/64d8656d-f373-445a-b793-66c9fc31515c\" target=\"_blank\" >Run details</a>."
      ],
      "text/plain": [
       "<IPython.core.display.HTML object>"
      ]
     },
     "metadata": {},
     "output_type": "display_data"
    },
    {
     "data": {
      "text/plain": [
       "RunPipelineResult(run_id=64d8656d-f373-445a-b793-66c9fc31515c)"
      ]
     },
     "execution_count": 28,
     "metadata": {},
     "output_type": "execute_result"
    }
   ],
   "source": [
    "def disable_cache_transformer(op):\n",
    "    if isinstance(op, dsl.ContainerOp):\n",
    "        op.execution_options.caching_strategy.max_cache_staleness = \"P0D\"\n",
    "    else:\n",
    "        op.add_pod_annotation(\n",
    "            name=\"pipelines.kubeflow.org/max_cache_staleness\", value=\"P0D\"\n",
    "        )\n",
    "    return op\n",
    "\n",
    "\n",
    "pipeline_conf = PipelineConf()\n",
    "pipeline_conf.add_op_transformer(disable_cache_transformer)\n",
    "pipeline_conf.data_passing_method = data_passing_methods.KubernetesVolume(\n",
    "    volume=V1Volume(\n",
    "        name=ARGUMENTS[\"blackboard\"],\n",
    "        persistent_volume_claim=V1PersistentVolumeClaimVolumeSource(\n",
    "            \"{{workflow.name}}-%s\" % ARGUMENTS[\"blackboard\"]\n",
    "        ),\n",
    "    ),\n",
    "    path_prefix=f'{ARGUMENTS[\"blackboard\"]}/',\n",
    ")\n",
    "\n",
    "client.create_run_from_pipeline_func(\n",
    "    stock_price_prediction_pipeline,\n",
    "    arguments=ARGUMENTS,\n",
    "    namespace=NAMESPACE,\n",
    "    pipeline_conf=pipeline_conf,\n",
    ")"
   ]
  },
  {
   "cell_type": "code",
   "execution_count": null,
   "metadata": {},
   "outputs": [],
   "source": []
  }
 ],
 "metadata": {
  "kernelspec": {
   "display_name": "Python 3 (ipykernel)",
   "language": "python",
   "name": "python3"
  },
  "language_info": {
   "codemirror_mode": {
    "name": "ipython",
    "version": 3
   },
   "file_extension": ".py",
   "mimetype": "text/x-python",
   "name": "python",
   "nbconvert_exporter": "python",
   "pygments_lexer": "ipython3",
   "version": "3.9.16"
  },
  "vscode": {
   "interpreter": {
    "hash": "31f2aee4e71d21fbe5cf8b01ff0e069b9275f58929596ceb00d14d90e3e16cd6"
   }
  }
 },
 "nbformat": 4,
 "nbformat_minor": 4
}
