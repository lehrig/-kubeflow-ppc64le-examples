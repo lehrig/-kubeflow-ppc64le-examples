{
 "cells": [
  {
   "cell_type": "markdown",
   "id": "8ecbb3d6-6764-4a89-b5d8-e3c97e6d9f3a",
   "metadata": {},
   "source": [
    "# Fraud Detection\n",
    "\n",
    "Classify transactions as fraud or non-fraud using an LSTM-based neural network. Data coming from https://github.com/IBM/TabFormer/tree/main/data/credit_card\n",
    "\n",
    "## Authors\n",
    "\n",
    "Natalie Jann [natalie.jann@ibm.com](mailto:natalie.jann@ibm.com)\n",
    "\n",
    "Sebastian Lehrig [sebastian.lehrig1@ibm.com](mailto:sebastian.lehrig1@ibm.com)\n",
    "\n",
    "Marvin Giessing [MARVING@de.ibm.com](mailto:MARVING@de.ibm.com)\n",
    "\n",
    "## License\n",
    "\n",
    "Apache-2.0 License"
   ]
  },
  {
   "cell_type": "markdown",
   "id": "7df0d458-1fa7-4dc3-b79d-a21f9d8f313a",
   "metadata": {},
   "source": [
    "The following cells are \"Raw\"-formatted; change them to \"Code\" if you need to install the respective packages!"
   ]
  },
  {
   "cell_type": "code",
   "execution_count": null,
   "id": "fefce752-a949-4ee6-924e-7fe299eb4d8d",
   "metadata": {},
   "outputs": [],
   "source": [
    "!mamba install -y pydot libgfortran5"
   ]
  },
  {
   "cell_type": "code",
   "execution_count": null,
   "id": "92ad7eb1-14e4-4c3a-8e3d-a0367aacb417",
   "metadata": {},
   "outputs": [],
   "source": [
    "!pip install --prefer-binary --no-cache-dir sklearn-pandas imbalanced-learn"
   ]
  },
  {
   "cell_type": "code",
   "execution_count": null,
   "id": "812c0d06-b78c-40bd-9939-172d6d00e351",
   "metadata": {},
   "outputs": [],
   "source": [
    "!wget https://ibm.ent.box.com/v/tabformer-data/file/770766751708 -O transactions.tgz"
   ]
  },
  {
   "cell_type": "code",
   "execution_count": null,
   "id": "10c34746-378a-4943-b8d0-ef85882dbf01",
   "metadata": {},
   "outputs": [],
   "source": [
    "# download data from https://ibm.ent.box.com/v/tabformer-data/file/770766751708 and upload here\n",
    "!tar -xvf transactions.tgz"
   ]
  },
  {
   "cell_type": "markdown",
   "id": "59fea6bc-1fc7-4f0f-97da-68386800b1ab",
   "metadata": {},
   "source": [
    "## 0.) Imports & Constants"
   ]
  },
  {
   "cell_type": "code",
   "execution_count": null,
   "id": "fc05efdc-db97-411e-ab33-efb5ca54e2dc",
   "metadata": {},
   "outputs": [],
   "source": [
    "import math\n",
    "import os\n",
    "import numpy as np\n",
    "import pandas as pd\n",
    "import re\n",
    "from requests import get\n",
    "from sklearn.impute import SimpleImputer\n",
    "from sklearn.preprocessing import (\n",
    "    LabelEncoder,\n",
    "    OneHotEncoder,\n",
    "    FunctionTransformer,\n",
    "    MinMaxScaler,\n",
    "    LabelBinarizer,\n",
    ")\n",
    "from sklearn_pandas import DataFrameMapper\n",
    "\n",
    "%load_ext lab_black"
   ]
  },
  {
   "cell_type": "markdown",
   "id": "c46add89-44da-469d-9b98-3f4cfd4d8727",
   "metadata": {},
   "source": [
    "## 1.) Preprocess the dataset"
   ]
  },
  {
   "cell_type": "code",
   "execution_count": null,
   "id": "12225f90-76a1-434b-b51d-97b3e494f842",
   "metadata": {},
   "outputs": [],
   "source": []
  },
  {
   "cell_type": "code",
   "execution_count": null,
   "id": "a89cef6d-16f5-4dd9-b921-779dfa66b3a0",
   "metadata": {},
   "outputs": [],
   "source": [
    "f = get(\"https://ibm.box.com/shared/static/wamc5d0yve71jm46ntdp23q6xc001ew2.csv\")\n",
    "with open(\"card_transaction.v1.csv\", \"wb\") as fd:\n",
    "    fd.write(f.content)\n",
    "\n",
    "dist = pd.DataFrame({\"No\": [], \"Yes\": []})\n",
    "df_nf = pd.DataFrame()\n",
    "df_f = pd.DataFrame()\n",
    "\n",
    "with pd.read_csv(\"./card_transaction.v1.csv\", chunksize=1_000_000) as reader:\n",
    "    for chunk in reader:\n",
    "        df_nf = pd.concat([df_nf, chunk[chunk[\"Is Fraud?\"] == \"No\"].sample(frac=0.05)])\n",
    "        df_f = pd.concat([df_f, chunk[chunk[\"Is Fraud?\"] == \"Yes\"]])\n",
    "        vc = chunk[\"Is Fraud?\"].value_counts()\n",
    "        new = pd.DataFrame({\"No\": [vc[0]], \"Yes\": [vc[1]]})\n",
    "        dist = pd.concat([dist, new])\n",
    "\n",
    "df_nf.to_csv(\"./card_transactions_non-frauds.csv\")\n",
    "df_f.to_csv(\"./card_transactions_frauds.csv\")\n",
    "print(f\"Ratio Fraud/Non-Fraud: {dist['Yes'].sum()/dist['No'].sum()}\")\n",
    "dist"
   ]
  },
  {
   "cell_type": "code",
   "execution_count": null,
   "id": "3fafd45a-99ae-418f-935a-5148a3c00bb7",
   "metadata": {
    "tags": []
   },
   "outputs": [],
   "source": [
    "import math\n",
    "import numpy as np\n",
    "\n",
    "from sklearn.impute import SimpleImputer\n",
    "from sklearn.preprocessing import (\n",
    "    LabelEncoder,\n",
    "    OneHotEncoder,\n",
    "    FunctionTransformer,\n",
    "    MinMaxScaler,\n",
    "    LabelBinarizer,\n",
    ")\n",
    "from sklearn_pandas import DataFrameMapper\n",
    "\n",
    "\n",
    "def timeEncoder(X):\n",
    "    X_hm = X[\"Time\"].str.split(\":\", expand=True)\n",
    "    d = pd.to_datetime(\n",
    "        dict(\n",
    "            year=X[\"Year\"], month=X[\"Month\"], day=X[\"Day\"], hour=X_hm[0], minute=X_hm[1]\n",
    "        )\n",
    "    ).astype(int)\n",
    "    return pd.DataFrame(d)\n",
    "\n",
    "\n",
    "def amtEncoder(X):\n",
    "    amt = (\n",
    "        X.apply(lambda x: x[1:])\n",
    "        .astype(float)\n",
    "        .map(lambda amt: max(1, amt))\n",
    "        .map(math.log)\n",
    "    )\n",
    "    return pd.DataFrame(amt)\n",
    "\n",
    "\n",
    "def decimalEncoder(X, length=5):\n",
    "    dnew = pd.DataFrame()\n",
    "    for i in range(length):\n",
    "        dnew[i] = np.mod(X, 10)\n",
    "        X = np.floor_divide(X, 10)\n",
    "    return dnew\n",
    "\n",
    "\n",
    "def fraudEncoder(X):\n",
    "    return np.where(X == \"Yes\", 1, 0).astype(int)\n",
    "\n",
    "\n",
    "# df_nf = pd.read_csv(f\"{os.getenv('HOME')}/card_transactions_non-frauds.csv\")\n",
    "# df_f = pd.read_csv(f\"{os.getenv('HOME')}/card_transactions_frauds.csv\")\n",
    "# tdf = pd.concat([df_nf, df_f])\n",
    "tdf = pd.read_csv(\"./card_transaction.v1.csv\", nrows=1_000_000)\n",
    "tdf[\"Merchant Name\"] = tdf[\"Merchant Name\"].astype(str)\n",
    "tdf.drop([\"MCC\", \"Zip\", \"Merchant State\"], axis=1, inplace=True)\n",
    "tdf.sort_values(by=[\"User\", \"Card\"], inplace=True)\n",
    "tdf.reset_index(inplace=True, drop=True)\n",
    "\n",
    "mapper = DataFrameMapper(\n",
    "    [\n",
    "        (\"Is Fraud?\", FunctionTransformer(fraudEncoder)),\n",
    "        (\n",
    "            \"Merchant Name\",\n",
    "            [LabelEncoder(), FunctionTransformer(decimalEncoder), OneHotEncoder()],\n",
    "        ),\n",
    "        (\n",
    "            \"Merchant City\",\n",
    "            [LabelEncoder(), FunctionTransformer(decimalEncoder), OneHotEncoder()],\n",
    "        ),\n",
    "        ([\"Use Chip\"], [SimpleImputer(strategy=\"constant\"), LabelBinarizer()]),\n",
    "        ([\"Errors?\"], [SimpleImputer(strategy=\"constant\"), LabelBinarizer()]),\n",
    "        (\n",
    "            [\"Year\", \"Month\", \"Day\", \"Time\"],\n",
    "            [FunctionTransformer(timeEncoder), MinMaxScaler()],\n",
    "        ),\n",
    "        (\"Amount\", [FunctionTransformer(amtEncoder), MinMaxScaler()]),\n",
    "    ],\n",
    "    input_df=True,\n",
    "    df_out=True,\n",
    ")\n",
    "mapper.fit(tdf)\n",
    "tdf = mapper.transform(tdf)\n",
    "\n",
    "tdf.head()"
   ]
  },
  {
   "cell_type": "code",
   "execution_count": null,
   "id": "14c496c9-988a-45a6-b584-97c874252c9b",
   "metadata": {},
   "outputs": [],
   "source": [
    "tdf[\"Is Fraud?\"].value_counts()"
   ]
  },
  {
   "cell_type": "code",
   "execution_count": null,
   "id": "649e2582-525f-4b94-893b-db76d90538fe",
   "metadata": {},
   "outputs": [],
   "source": [
    "tdf.to_csv(\"./preprocessed_transactions.csv\", index=False)"
   ]
  },
  {
   "cell_type": "markdown",
   "id": "9d109f2e-a7e1-4f80-9946-5c6d29197010",
   "metadata": {},
   "source": [
    "### 2.) Construct the SQL CREATE statement"
   ]
  },
  {
   "cell_type": "code",
   "execution_count": null,
   "id": "62c8297d-cfce-4ce6-953f-a175b702a189",
   "metadata": {},
   "outputs": [],
   "source": [
    "# build \"CREATE TABLE\" statement for postgresql\n",
    "sql = \"CREATE TABLE IF NOT EXISTS public.transactions (\"\n",
    "\n",
    "\n",
    "def get_dtype(d):\n",
    "    if d == \"float64\":\n",
    "        return \"real\"\n",
    "    elif d == \"int64\":\n",
    "        return \"bigint\"\n",
    "    else:\n",
    "        return \"varchar\"\n",
    "\n",
    "\n",
    "for col, d in zip(tdf.columns, tdf.dtypes):\n",
    "    sql += f'\"{col.replace(\"?\", \"\")}\" {get_dtype(d)}, '\n",
    "sql += \";\""
   ]
  },
  {
   "cell_type": "code",
   "execution_count": null,
   "id": "e2b10f7f-7818-45e0-b330-d2bf08874ba0",
   "metadata": {},
   "outputs": [],
   "source": [
    "sql = re.sub(r\", ;$\", \");\", sql)\n",
    "sql"
   ]
  },
  {
   "cell_type": "markdown",
   "id": "43b8d09c-37d6-4515-af76-07ea18b72b5f",
   "metadata": {},
   "source": [
    "### 3.) Transfer the data and fill the database\n",
    "The following cells are \"Raw\"-formatted; change them to \"Code\" and adapt it if you need to copy the file to PostgreSQL!"
   ]
  },
  {
   "cell_type": "raw",
   "id": "70aa6add-cfc2-4650-b749-84dc52c37ec3",
   "metadata": {},
   "source": [
    "scp preprocessed_transactions.csv {user}@{openshift-cluster}:/{directory}"
   ]
  },
  {
   "cell_type": "markdown",
   "id": "0d396c72-1712-43f3-bf9e-7306e32d1eaa",
   "metadata": {},
   "source": [
    "> create `init_transactions.sql` with the statement stored in `sql` (see above) and add the following line to the end of the file:\n",
    "\n",
    "```\\copy public.transactions FROM './preprocessed_transactions.csv' WITH (FORMAT csv, HEADER true, DELIMITER ',');```"
   ]
  },
  {
   "cell_type": "raw",
   "id": "c80ee9fd-b822-4ea8-afd1-9d0cce692a66",
   "metadata": {},
   "source": [
    "POSTGRES_POD=$(oc get po -n datalake -l name=postgresql -o jsonpath=\"{.items[0].metadata.name}\")\n",
    "kubectl cp -n datalake preprocessed_transactions.csv  \"$POSTGRES_POD:/tmp/\"\n",
    "psql -h 127.0.0.1 -p 5432 -U {user} -d {database} -a -f init_transactions.sql"
   ]
  }
 ],
 "metadata": {
  "kernelspec": {
   "display_name": "Python 3 (ipykernel)",
   "language": "python",
   "name": "python3"
  },
  "language_info": {
   "codemirror_mode": {
    "name": "ipython",
    "version": 3
   },
   "file_extension": ".py",
   "mimetype": "text/x-python",
   "name": "python",
   "nbconvert_exporter": "python",
   "pygments_lexer": "ipython3",
   "version": "3.9.16"
  }
 },
 "nbformat": 4,
 "nbformat_minor": 5
}
